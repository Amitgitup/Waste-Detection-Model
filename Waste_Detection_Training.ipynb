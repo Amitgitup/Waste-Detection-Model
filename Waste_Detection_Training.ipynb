{
 "cells": [
  {
   "cell_type": "markdown",
   "metadata": {},
   "source": [
    "# YOLOv8 Waste Detection Model Training\n",
    "\n",
    "This notebook walks through the process of training a YOLOv8 model on a custom waste detection dataset."
   ]
  },
  {
   "cell_type": "markdown",
   "metadata": {},
   "source": [
    "### 1. Install Dependencies\n",
    "\n",
    "First, we need to install the `ultralytics` library which contains the YOLOv8 implementation."
   ]
  },
  {
   "cell_type": "code",
   "execution_count": 1,
   "metadata": {},
   "outputs": [
    {
     "name": "stdout",
     "output_type": "stream",
     "text": [
      "Requirement already satisfied: ultralytics in d:\\waste detection model\\myenv\\lib\\site-packages (8.3.204)\n",
      "Requirement already satisfied: pyyaml>=5.3.1 in d:\\waste detection model\\myenv\\lib\\site-packages (from ultralytics) (6.0.3)\n",
      "Requirement already satisfied: torchvision>=0.9.0 in d:\\waste detection model\\myenv\\lib\\site-packages (from ultralytics) (0.23.0)\n",
      "Requirement already satisfied: opencv-python>=4.6.0 in d:\\waste detection model\\myenv\\lib\\site-packages (from ultralytics) (4.12.0.88)\n",
      "Requirement already satisfied: torch!=2.4.0,>=1.8.0 in d:\\waste detection model\\myenv\\lib\\site-packages (from ultralytics) (2.8.0)\n",
      "Requirement already satisfied: polars in d:\\waste detection model\\myenv\\lib\\site-packages (from ultralytics) (1.34.0)\n",
      "Requirement already satisfied: numpy>=1.23.0 in d:\\waste detection model\\myenv\\lib\\site-packages (from ultralytics) (2.2.6)\n",
      "Requirement already satisfied: matplotlib>=3.3.0 in d:\\waste detection model\\myenv\\lib\\site-packages (from ultralytics) (3.10.6)\n",
      "Requirement already satisfied: requests>=2.23.0 in d:\\waste detection model\\myenv\\lib\\site-packages (from ultralytics) (2.32.5)\n",
      "Requirement already satisfied: psutil in d:\\waste detection model\\myenv\\lib\\site-packages (from ultralytics) (7.1.0)\n",
      "Requirement already satisfied: pillow>=7.1.2 in d:\\waste detection model\\myenv\\lib\\site-packages (from ultralytics) (11.3.0)\n",
      "Requirement already satisfied: scipy>=1.4.1 in d:\\waste detection model\\myenv\\lib\\site-packages (from ultralytics) (1.15.3)\n",
      "Requirement already satisfied: ultralytics-thop>=2.0.0 in d:\\waste detection model\\myenv\\lib\\site-packages (from ultralytics) (2.0.17)\n",
      "Requirement already satisfied: fonttools>=4.22.0 in d:\\waste detection model\\myenv\\lib\\site-packages (from matplotlib>=3.3.0->ultralytics) (4.60.1)\n",
      "Requirement already satisfied: contourpy>=1.0.1 in d:\\waste detection model\\myenv\\lib\\site-packages (from matplotlib>=3.3.0->ultralytics) (1.3.2)\n",
      "Requirement already satisfied: packaging>=20.0 in d:\\waste detection model\\myenv\\lib\\site-packages (from matplotlib>=3.3.0->ultralytics) (25.0)\n",
      "Requirement already satisfied: python-dateutil>=2.7 in d:\\waste detection model\\myenv\\lib\\site-packages (from matplotlib>=3.3.0->ultralytics) (2.9.0.post0)\n",
      "Requirement already satisfied: cycler>=0.10 in d:\\waste detection model\\myenv\\lib\\site-packages (from matplotlib>=3.3.0->ultralytics) (0.12.1)\n",
      "Requirement already satisfied: pyparsing>=2.3.1 in d:\\waste detection model\\myenv\\lib\\site-packages (from matplotlib>=3.3.0->ultralytics) (3.2.5)\n",
      "Requirement already satisfied: kiwisolver>=1.3.1 in d:\\waste detection model\\myenv\\lib\\site-packages (from matplotlib>=3.3.0->ultralytics) (1.4.9)\n",
      "Requirement already satisfied: six>=1.5 in d:\\waste detection model\\myenv\\lib\\site-packages (from python-dateutil>=2.7->matplotlib>=3.3.0->ultralytics) (1.17.0)\n",
      "Requirement already satisfied: idna<4,>=2.5 in d:\\waste detection model\\myenv\\lib\\site-packages (from requests>=2.23.0->ultralytics) (3.10)\n",
      "Requirement already satisfied: urllib3<3,>=1.21.1 in d:\\waste detection model\\myenv\\lib\\site-packages (from requests>=2.23.0->ultralytics) (2.5.0)\n",
      "Requirement already satisfied: charset_normalizer<4,>=2 in d:\\waste detection model\\myenv\\lib\\site-packages (from requests>=2.23.0->ultralytics) (3.4.3)\n",
      "Requirement already satisfied: certifi>=2017.4.17 in d:\\waste detection model\\myenv\\lib\\site-packages (from requests>=2.23.0->ultralytics) (2025.10.5)\n",
      "Requirement already satisfied: networkx in d:\\waste detection model\\myenv\\lib\\site-packages (from torch!=2.4.0,>=1.8.0->ultralytics) (3.4.2)\n",
      "Requirement already satisfied: jinja2 in d:\\waste detection model\\myenv\\lib\\site-packages (from torch!=2.4.0,>=1.8.0->ultralytics) (3.1.6)\n",
      "Requirement already satisfied: fsspec in d:\\waste detection model\\myenv\\lib\\site-packages (from torch!=2.4.0,>=1.8.0->ultralytics) (2025.9.0)\n",
      "Requirement already satisfied: typing-extensions>=4.10.0 in d:\\waste detection model\\myenv\\lib\\site-packages (from torch!=2.4.0,>=1.8.0->ultralytics) (4.15.0)\n",
      "Requirement already satisfied: filelock in d:\\waste detection model\\myenv\\lib\\site-packages (from torch!=2.4.0,>=1.8.0->ultralytics) (3.19.1)\n",
      "Requirement already satisfied: sympy>=1.13.3 in d:\\waste detection model\\myenv\\lib\\site-packages (from torch!=2.4.0,>=1.8.0->ultralytics) (1.14.0)\n",
      "Requirement already satisfied: mpmath<1.4,>=1.1.0 in d:\\waste detection model\\myenv\\lib\\site-packages (from sympy>=1.13.3->torch!=2.4.0,>=1.8.0->ultralytics) (1.3.0)\n",
      "Requirement already satisfied: MarkupSafe>=2.0 in d:\\waste detection model\\myenv\\lib\\site-packages (from jinja2->torch!=2.4.0,>=1.8.0->ultralytics) (3.0.3)\n",
      "Requirement already satisfied: polars-runtime-32==1.34.0 in d:\\waste detection model\\myenv\\lib\\site-packages (from polars->ultralytics) (1.34.0)\n",
      "Note: you may need to restart the kernel to use updated packages.\n"
     ]
    },
    {
     "name": "stderr",
     "output_type": "stream",
     "text": [
      "WARNING: You are using pip version 21.2.3; however, version 25.2 is available.\n",
      "You should consider upgrading via the 'd:\\Waste Detection Model\\myenv\\Scripts\\python.exe -m pip install --upgrade pip' command.\n"
     ]
    }
   ],
   "source": [
    "%pip install ultralytics"
   ]
  },
  {
   "cell_type": "markdown",
   "metadata": {},
   "source": [
    "### 2. Import Libraries"
   ]
  },
  {
   "cell_type": "code",
   "execution_count": 2,
   "metadata": {},
   "outputs": [],
   "source": [
    "import os\n",
    "from ultralytics import YOLO\n",
    "import torch"
   ]
  },
  {
   "cell_type": "markdown",
   "metadata": {},
   "source": [
    "### 3. Setup Dataset Configuration\n",
    "\n",
    "You'll need a `data.yaml` file that points to your training and validation image directories. It also specifies the number of classes and their names.\n",
    "\n",
    "**Example `data.yaml`:**\n",
    "```yaml\n",
    "train: ../dataset/images/train/\n",
    "val: ../dataset/images/val/\n",
    "\n",
    "# Number of classes\n",
    "nc: 2\n",
    "\n",
    "# Class names\n",
    "names: ['plastic', 'metal']\n",
    "```\n",
    "Make sure the paths in your `data.yaml` are correct relative to your notebook's location."
   ]
  },
  {
   "cell_type": "code",
   "execution_count": 3,
   "metadata": {},
   "outputs": [],
   "source": [
    "# Define the path to your data.yaml file\n",
    "# IMPORTANT: Update this path to where your data.yaml is located.\n",
    "data_config_path = 'dataset/data.yaml'"
   ]
  },
  {
   "cell_type": "markdown",
   "metadata": {},
   "source": [
    "### 4. Load the YOLOv8 Model\n",
    "\n",
    "We will use a pretrained YOLOv8 model as a starting point. `yolov8n.pt` is one of the smallest and fastest models, making it a good choice for initial training."
   ]
  },
  {
   "cell_type": "code",
   "execution_count": 4,
   "metadata": {},
   "outputs": [
    {
     "name": "stdout",
     "output_type": "stream",
     "text": [
      "\u001b[KDownloading https://github.com/ultralytics/assets/releases/download/v8.3.0/yolov8n.pt to 'yolov8n.pt': 100% ━━━━━━━━━━━━ 6.2MB 8.2MB/s 0.8s0.7s<0.0s7s.1s\n"
     ]
    }
   ],
   "source": [
    "# Load a pretrained YOLOv8 model\n",
    "# You can choose from yolov8n.pt, yolov8s.pt, yolov8m.pt, yolov8l.pt, yolov8x.pt\n",
    "model = YOLO('yolov8n.pt')"
   ]
  },
  {
   "cell_type": "markdown",
   "metadata": {},
   "source": [
    "### 5. Train the Model\n",
    "\n",
    "Now, we'll train the model on our custom dataset. You can adjust the number of `epochs`, `batch` size, and `imgsz` (image size) based on your hardware capabilities.\n",
    "\n",
    "The training process will automatically save checkpoints and the final best model (`best.pt`) in a `runs/detect/train` directory."
   ]
  },
  {
   "cell_type": "code",
   "execution_count": 6,
   "metadata": {},
   "outputs": [
    {
     "name": "stdout",
     "output_type": "stream",
     "text": [
      "Ultralytics 8.3.204  Python-3.10.0 torch-2.8.0+cpu CPU (12th Gen Intel Core(TM) i5-12500H)\n",
      "\u001b[34m\u001b[1mengine\\trainer: \u001b[0magnostic_nms=False, amp=True, augment=False, auto_augment=randaugment, batch=16, bgr=0.0, box=7.5, cache=False, cfg=None, classes=None, close_mosaic=10, cls=0.5, compile=False, conf=None, copy_paste=0.0, copy_paste_mode=flip, cos_lr=False, cutmix=0.0, data=dataset/data.yaml, degrees=0.0, deterministic=True, device=cpu, dfl=1.5, dnn=False, dropout=0.0, dynamic=False, embed=None, epochs=20, erasing=0.4, exist_ok=False, fliplr=0.5, flipud=0.0, format=torchscript, fraction=1.0, freeze=None, half=False, hsv_h=0.015, hsv_s=0.7, hsv_v=0.4, imgsz=640, int8=False, iou=0.7, keras=False, kobj=1.0, line_width=None, lr0=0.01, lrf=0.01, mask_ratio=4, max_det=300, mixup=0.0, mode=train, model=yolov8n.pt, momentum=0.937, mosaic=1.0, multi_scale=False, name=yolov8n_waste_detection2, nbs=64, nms=False, opset=None, optimize=False, optimizer=auto, overlap_mask=True, patience=100, perspective=0.0, plots=True, pose=12.0, pretrained=True, profile=False, project=None, rect=False, resume=False, retina_masks=False, save=True, save_conf=False, save_crop=False, save_dir=D:\\Waste Detection Model\\runs\\detect\\yolov8n_waste_detection2, save_frames=False, save_json=False, save_period=-1, save_txt=False, scale=0.5, seed=0, shear=0.0, show=False, show_boxes=True, show_conf=True, show_labels=True, simplify=True, single_cls=False, source=None, split=val, stream_buffer=False, task=detect, time=None, tracker=botsort.yaml, translate=0.1, val=True, verbose=True, vid_stride=1, visualize=False, warmup_bias_lr=0.1, warmup_epochs=3.0, warmup_momentum=0.8, weight_decay=0.0005, workers=8, workspace=None\n",
      "\n",
      "                   from  n    params  module                                       arguments                     \n",
      "  0                  -1  1       464  ultralytics.nn.modules.conv.Conv             [3, 16, 3, 2]                 \n",
      "  1                  -1  1      4672  ultralytics.nn.modules.conv.Conv             [16, 32, 3, 2]                \n",
      "  2                  -1  1      7360  ultralytics.nn.modules.block.C2f             [32, 32, 1, True]             \n",
      "  3                  -1  1     18560  ultralytics.nn.modules.conv.Conv             [32, 64, 3, 2]                \n",
      "  4                  -1  2     49664  ultralytics.nn.modules.block.C2f             [64, 64, 2, True]             \n",
      "  5                  -1  1     73984  ultralytics.nn.modules.conv.Conv             [64, 128, 3, 2]               \n",
      "  6                  -1  2    197632  ultralytics.nn.modules.block.C2f             [128, 128, 2, True]           \n",
      "  7                  -1  1    295424  ultralytics.nn.modules.conv.Conv             [128, 256, 3, 2]              \n",
      "  8                  -1  1    460288  ultralytics.nn.modules.block.C2f             [256, 256, 1, True]           \n",
      "  9                  -1  1    164608  ultralytics.nn.modules.block.SPPF            [256, 256, 5]                 \n",
      " 10                  -1  1         0  torch.nn.modules.upsampling.Upsample         [None, 2, 'nearest']          \n",
      " 11             [-1, 6]  1         0  ultralytics.nn.modules.conv.Concat           [1]                           \n",
      " 12                  -1  1    148224  ultralytics.nn.modules.block.C2f             [384, 128, 1]                 \n",
      " 13                  -1  1         0  torch.nn.modules.upsampling.Upsample         [None, 2, 'nearest']          \n",
      " 14             [-1, 4]  1         0  ultralytics.nn.modules.conv.Concat           [1]                           \n",
      " 15                  -1  1     37248  ultralytics.nn.modules.block.C2f             [192, 64, 1]                  \n",
      " 16                  -1  1     36992  ultralytics.nn.modules.conv.Conv             [64, 64, 3, 2]                \n",
      " 17            [-1, 12]  1         0  ultralytics.nn.modules.conv.Concat           [1]                           \n",
      " 18                  -1  1    123648  ultralytics.nn.modules.block.C2f             [192, 128, 1]                 \n",
      " 19                  -1  1    147712  ultralytics.nn.modules.conv.Conv             [128, 128, 3, 2]              \n",
      " 20             [-1, 9]  1         0  ultralytics.nn.modules.conv.Concat           [1]                           \n",
      " 21                  -1  1    493056  ultralytics.nn.modules.block.C2f             [384, 256, 1]                 \n",
      " 22        [15, 18, 21]  1    753847  ultralytics.nn.modules.head.Detect           [13, [64, 128, 256]]          \n",
      "Model summary: 129 layers, 3,013,383 parameters, 3,013,367 gradients, 8.2 GFLOPs\n",
      "\n",
      "Transferred 355/355 items from pretrained weights\n",
      "Freezing layer 'model.22.dfl.conv.weight'\n",
      "\u001b[34m\u001b[1mtrain: \u001b[0mFast image access  (ping: 0.10.1 ms, read: 4.11.8 MB/s, size: 30.3 KB)\n",
      "\u001b[K\u001b[34m\u001b[1mtrain: \u001b[0mScanning D:\\Waste Detection Model\\dataset\\train\\labels.cache... 919 images, 0 backgrounds, 0 corrupt: 100% ━━━━━━━━━━━━ 919/919 918.2Kit/s 0.0s\n",
      "\u001b[34m\u001b[1mval: \u001b[0mFast image access  (ping: 0.50.7 ms, read: 3.71.6 MB/s, size: 31.2 KB)\n",
      "\u001b[K\u001b[34m\u001b[1mval: \u001b[0mScanning D:\\Waste Detection Model\\dataset\\valid\\labels.cache... 459 images, 0 backgrounds, 0 corrupt: 100% ━━━━━━━━━━━━ 459/459 458.5Kit/s 0.0s\n",
      "Plotting labels to D:\\Waste Detection Model\\runs\\detect\\yolov8n_waste_detection2\\labels.jpg... \n",
      "\u001b[34m\u001b[1moptimizer:\u001b[0m 'optimizer=auto' found, ignoring 'lr0=0.01' and 'momentum=0.937' and determining best 'optimizer', 'lr0' and 'momentum' automatically... \n",
      "\u001b[34m\u001b[1moptimizer:\u001b[0m AdamW(lr=0.000588, momentum=0.9) with parameter groups 57 weight(decay=0.0), 64 weight(decay=0.0005), 63 bias(decay=0.0)\n",
      "Image sizes 640 train, 640 val\n",
      "Using 0 dataloader workers\n",
      "Logging results to \u001b[1mD:\\Waste Detection Model\\runs\\detect\\yolov8n_waste_detection2\u001b[0m\n",
      "Starting training for 20 epochs...\n",
      "\n",
      "      Epoch    GPU_mem   box_loss   cls_loss   dfl_loss  Instances       Size\n",
      "\u001b[K       1/20         0G     0.6252      3.342      1.176         21        640: 100% ━━━━━━━━━━━━ 58/58 0.3it/s 3:332.4ss\n",
      "\u001b[K                 Class     Images  Instances      Box(P          R      mAP50  mAP50-95): 100% ━━━━━━━━━━━━ 15/15 0.5it/s 30.5s2.1ss\n",
      "                   all        459        702      0.502      0.264      0.342      0.309\n",
      "\n",
      "      Epoch    GPU_mem   box_loss   cls_loss   dfl_loss  Instances       Size\n",
      "\u001b[K       2/20         0G     0.6715      2.297      1.183         19        640: 100% ━━━━━━━━━━━━ 58/58 0.3it/s 3:414.0ss\n",
      "\u001b[K                 Class     Images  Instances      Box(P          R      mAP50  mAP50-95): 100% ━━━━━━━━━━━━ 15/15 0.5it/s 30.5s1.8s\n",
      "                   all        459        702      0.585      0.614      0.661      0.568\n",
      "\n",
      "      Epoch    GPU_mem   box_loss   cls_loss   dfl_loss  Instances       Size\n",
      "\u001b[K       3/20         0G      0.651       1.65      1.145         13        640: 100% ━━━━━━━━━━━━ 58/58 0.3it/s 3:092.1ss\n",
      "\u001b[K                 Class     Images  Instances      Box(P          R      mAP50  mAP50-95): 100% ━━━━━━━━━━━━ 15/15 0.7it/s 21.6s1.5s\n",
      "                   all        459        702      0.808      0.699      0.808      0.712\n",
      "\n",
      "      Epoch    GPU_mem   box_loss   cls_loss   dfl_loss  Instances       Size\n",
      "\u001b[K       4/20         0G     0.6388      1.502      1.117         28        640: 100% ━━━━━━━━━━━━ 58/58 0.4it/s 2:352.1ss\n",
      "\u001b[K                 Class     Images  Instances      Box(P          R      mAP50  mAP50-95): 100% ━━━━━━━━━━━━ 15/15 0.7it/s 21.5s1.5s\n",
      "                   all        459        702      0.791       0.74      0.848      0.719\n",
      "\n",
      "      Epoch    GPU_mem   box_loss   cls_loss   dfl_loss  Instances       Size\n",
      "\u001b[K       5/20         0G     0.6319      1.396      1.114         37        640: 100% ━━━━━━━━━━━━ 58/58 0.4it/s 2:372.0ss\n",
      "\u001b[K                 Class     Images  Instances      Box(P          R      mAP50  mAP50-95): 100% ━━━━━━━━━━━━ 15/15 0.7it/s 21.5s1.4s\n",
      "                   all        459        702      0.828      0.847      0.908      0.807\n",
      "\n",
      "      Epoch    GPU_mem   box_loss   cls_loss   dfl_loss  Instances       Size\n",
      "\u001b[K       6/20         0G      0.598       1.21      1.095         22        640: 100% ━━━━━━━━━━━━ 58/58 0.4it/s 2:322.2ss\n",
      "\u001b[K                 Class     Images  Instances      Box(P          R      mAP50  mAP50-95): 100% ━━━━━━━━━━━━ 15/15 0.7it/s 21.5s1.4s\n",
      "                   all        459        702      0.891      0.878      0.939      0.839\n",
      "\n",
      "      Epoch    GPU_mem   box_loss   cls_loss   dfl_loss  Instances       Size\n",
      "\u001b[K       7/20         0G     0.5845       1.13      1.086         23        640: 100% ━━━━━━━━━━━━ 58/58 0.3it/s 2:512.3ss\n",
      "\u001b[K                 Class     Images  Instances      Box(P          R      mAP50  mAP50-95): 100% ━━━━━━━━━━━━ 15/15 0.4it/s 35.2s2.5ss\n",
      "                   all        459        702      0.886      0.843       0.92      0.818\n",
      "\n",
      "      Epoch    GPU_mem   box_loss   cls_loss   dfl_loss  Instances       Size\n",
      "\u001b[K       8/20         0G      0.571      1.086      1.077         16        640: 100% ━━━━━━━━━━━━ 58/58 0.3it/s 3:312.0ss\n",
      "\u001b[K                 Class     Images  Instances      Box(P          R      mAP50  mAP50-95): 100% ━━━━━━━━━━━━ 15/15 0.7it/s 20.1s1.4s\n",
      "                   all        459        702      0.883      0.807      0.901       0.81\n",
      "\n",
      "      Epoch    GPU_mem   box_loss   cls_loss   dfl_loss  Instances       Size\n",
      "\u001b[K       9/20         0G      0.546     0.9937      1.059         23        640: 100% ━━━━━━━━━━━━ 58/58 0.4it/s 2:332.2ss\n",
      "\u001b[K                 Class     Images  Instances      Box(P          R      mAP50  mAP50-95): 100% ━━━━━━━━━━━━ 15/15 0.7it/s 21.6s1.4s\n",
      "                   all        459        702      0.898        0.9      0.946      0.845\n",
      "\n",
      "      Epoch    GPU_mem   box_loss   cls_loss   dfl_loss  Instances       Size\n",
      "\u001b[K      10/20         0G     0.5203     0.9098       1.05         21        640: 100% ━━━━━━━━━━━━ 58/58 0.3it/s 3:033.5ss\n",
      "\u001b[K                 Class     Images  Instances      Box(P          R      mAP50  mAP50-95): 100% ━━━━━━━━━━━━ 15/15 0.4it/s 35.6s2.4ss\n",
      "                   all        459        702      0.943      0.914      0.965      0.873\n",
      "Closing dataloader mosaic\n",
      "\n",
      "      Epoch    GPU_mem   box_loss   cls_loss   dfl_loss  Instances       Size\n",
      "\u001b[K      11/20         0G      0.384      1.097     0.9459          8        640: 100% ━━━━━━━━━━━━ 58/58 0.3it/s 3:152.1ss\n",
      "\u001b[K                 Class     Images  Instances      Box(P          R      mAP50  mAP50-95): 100% ━━━━━━━━━━━━ 15/15 0.7it/s 20.7s1.4s\n",
      "                   all        459        702       0.94       0.85      0.943      0.844\n",
      "\n",
      "      Epoch    GPU_mem   box_loss   cls_loss   dfl_loss  Instances       Size\n",
      "\u001b[K      12/20         0G     0.3538     0.9585     0.9206          8        640: 100% ━━━━━━━━━━━━ 58/58 0.4it/s 2:432.0ss\n",
      "\u001b[K                 Class     Images  Instances      Box(P          R      mAP50  mAP50-95): 100% ━━━━━━━━━━━━ 15/15 0.7it/s 20.6s1.4s\n",
      "                   all        459        702      0.933      0.911      0.957      0.856\n",
      "\n",
      "      Epoch    GPU_mem   box_loss   cls_loss   dfl_loss  Instances       Size\n",
      "\u001b[K      13/20         0G     0.3205      0.852     0.8925          7        640: 100% ━━━━━━━━━━━━ 58/58 0.3it/s 2:563.8ss\n",
      "\u001b[K                 Class     Images  Instances      Box(P          R      mAP50  mAP50-95): 100% ━━━━━━━━━━━━ 15/15 0.4it/s 40.9s2.6ss\n",
      "                   all        459        702      0.947      0.946      0.968      0.884\n",
      "\n",
      "      Epoch    GPU_mem   box_loss   cls_loss   dfl_loss  Instances       Size\n",
      "\u001b[K      14/20         0G     0.3064     0.8187     0.8811          7        640: 100% ━━━━━━━━━━━━ 58/58 0.2it/s 4:334.4ss\n",
      "\u001b[K                 Class     Images  Instances      Box(P          R      mAP50  mAP50-95): 100% ━━━━━━━━━━━━ 15/15 0.4it/s 37.6s2.5ss\n",
      "                   all        459        702      0.933      0.924      0.965      0.879\n",
      "\n",
      "      Epoch    GPU_mem   box_loss   cls_loss   dfl_loss  Instances       Size\n",
      "\u001b[K      15/20         0G     0.2961     0.7705     0.8729          8        640: 100% ━━━━━━━━━━━━ 58/58 0.2it/s 4:474.0ss\n",
      "\u001b[K                 Class     Images  Instances      Box(P          R      mAP50  mAP50-95): 100% ━━━━━━━━━━━━ 15/15 0.4it/s 36.9s2.5ss\n",
      "                   all        459        702      0.945      0.925      0.966      0.891\n",
      "\n",
      "      Epoch    GPU_mem   box_loss   cls_loss   dfl_loss  Instances       Size\n",
      "\u001b[K      16/20         0G     0.2741     0.7329     0.8587         18        640: 100% ━━━━━━━━━━━━ 58/58 0.2it/s 4:454.0ss\n",
      "\u001b[K                 Class     Images  Instances      Box(P          R      mAP50  mAP50-95): 100% ━━━━━━━━━━━━ 15/15 0.4it/s 38.9s2.7ss\n",
      "                   all        459        702      0.949      0.937      0.965      0.897\n",
      "\n",
      "      Epoch    GPU_mem   box_loss   cls_loss   dfl_loss  Instances       Size\n",
      "\u001b[K      17/20         0G     0.2622     0.6888     0.8532         18        640: 100% ━━━━━━━━━━━━ 58/58 0.3it/s 3:262.1ss\n",
      "\u001b[K                 Class     Images  Instances      Box(P          R      mAP50  mAP50-95): 100% ━━━━━━━━━━━━ 15/15 0.5it/s 27.5s2.2s\n",
      "                   all        459        702      0.953      0.943       0.97      0.909\n",
      "\n",
      "      Epoch    GPU_mem   box_loss   cls_loss   dfl_loss  Instances       Size\n",
      "\u001b[K      18/20         0G     0.2529     0.6615     0.8387         19        640: 100% ━━━━━━━━━━━━ 58/58 0.3it/s 3:222.1ss\n",
      "\u001b[K                 Class     Images  Instances      Box(P          R      mAP50  mAP50-95): 100% ━━━━━━━━━━━━ 15/15 0.6it/s 23.1s1.6s\n",
      "                   all        459        702      0.961      0.941      0.969      0.906\n",
      "\n",
      "      Epoch    GPU_mem   box_loss   cls_loss   dfl_loss  Instances       Size\n",
      "\u001b[K      19/20         0G     0.2481      0.634     0.8376         17        640: 100% ━━━━━━━━━━━━ 58/58 0.3it/s 3:392.2ss\n",
      "\u001b[K                 Class     Images  Instances      Box(P          R      mAP50  mAP50-95): 100% ━━━━━━━━━━━━ 15/15 0.7it/s 23.1s1.5s\n",
      "                   all        459        702      0.952      0.943      0.969      0.914\n",
      "\n",
      "      Epoch    GPU_mem   box_loss   cls_loss   dfl_loss  Instances       Size\n",
      "\u001b[K      20/20         0G     0.2353     0.6091     0.8387          7        640: 100% ━━━━━━━━━━━━ 58/58 0.3it/s 2:582.3ss\n",
      "\u001b[K                 Class     Images  Instances      Box(P          R      mAP50  mAP50-95): 100% ━━━━━━━━━━━━ 15/15 0.5it/s 27.5s2.1s\n",
      "                   all        459        702      0.957      0.955      0.971      0.915\n",
      "\n",
      "20 epochs completed in 1.264 hours.\n",
      "Optimizer stripped from D:\\Waste Detection Model\\runs\\detect\\yolov8n_waste_detection2\\weights\\last.pt, 6.2MB\n",
      "Optimizer stripped from D:\\Waste Detection Model\\runs\\detect\\yolov8n_waste_detection2\\weights\\best.pt, 6.2MB\n",
      "\n",
      "Validating D:\\Waste Detection Model\\runs\\detect\\yolov8n_waste_detection2\\weights\\best.pt...\n",
      "Ultralytics 8.3.204  Python-3.10.0 torch-2.8.0+cpu CPU (12th Gen Intel Core(TM) i5-12500H)\n",
      "Model summary (fused): 72 layers, 3,008,183 parameters, 0 gradients, 8.1 GFLOPs\n",
      "\u001b[K                 Class     Images  Instances      Box(P          R      mAP50  mAP50-95): 100% ━━━━━━━━━━━━ 15/15 0.7it/s 20.9s1.4s\n",
      "                   all        459        702      0.957      0.955      0.971      0.914\n",
      "                banana         46         46      0.991      0.978      0.976      0.934\n",
      "                chilli         55         55      0.946      0.956      0.984      0.912\n",
      "              drinkcan         49         49      0.957          1      0.993      0.975\n",
      "             drinkpack         51         51      0.954          1      0.995       0.94\n",
      "               foodcan         46         46       0.88          1      0.946      0.914\n",
      "               lettuce         47         57      0.982      0.977      0.994      0.934\n",
      "              paperbag         59         59      0.974      0.966      0.984      0.898\n",
      "            plasticbag         40         40      0.888      0.925      0.884      0.872\n",
      "         plasticbottle         61         61      0.972      0.934      0.961      0.916\n",
      "      plasticcontainer         52         52      0.958      0.884      0.974       0.84\n",
      "           sweetpotato         51         71      0.964      0.944      0.981        0.9\n",
      "                teabag         52         52      0.994      0.885      0.952      0.887\n",
      "            tissueroll         63         63      0.984      0.966      0.994      0.963\n",
      "Speed: 0.7ms preprocess, 40.4ms inference, 0.0ms loss, 0.5ms postprocess per image\n",
      "Results saved to \u001b[1mD:\\Waste Detection Model\\runs\\detect\\yolov8n_waste_detection2\u001b[0m\n"
     ]
    }
   ],
   "source": [
    "# Train the model\n",
    "results = model.train(\n",
    "   data=data_config_path,\n",
    "   epochs=20,          # Number of training epochs\n",
    "   imgsz=640,          # Image size for training\n",
    "   batch=16,            # Batch size\n",
    "   name='yolov8n_waste_detection' # Name for the training run directory\n",
    ")"
   ]
  },
  {
   "cell_type": "markdown",
   "metadata": {},
   "source": [
    "### 6. (Optional) Validate the Model\n",
    "\n",
    "After training, you can evaluate the model's performance on the validation set."
   ]
  },
  {
   "cell_type": "code",
   "execution_count": null,
   "metadata": {},
   "outputs": [],
   "source": [
    "# The best model is saved automatically, but you can explicitly load it\n",
    "# The path will be something like 'runs/detect/yolov8n_waste_detection/weights/best.pt'\n",
    "model_path = 'runs/detect/yolov8n_waste_detection2/weights/best.pt'\n",
    "model_trained = YOLO(model_path)\n",
    "\n",
    "# Run validation\n",
    "metrics = model_trained.val()"
   ]
  },
  {
   "cell_type": "markdown",
   "metadata": {},
   "source": [
    "### 7. (Optional) Run Inference on an Image\n",
    "\n",
    "You can test the trained model on a new image to see the detection results."
   ]
  },
  {
   "cell_type": "code",
   "execution_count": null,
   "metadata": {},
   "outputs": [],
   "source": [
    "# Path to an image you want to test\n",
    "# IMPORTANT: Update this to a valid image path\n",
    "test_image_path = 'path/to/your/test_image.jpg'\n",
    "\n",
    "# Perform inference\n",
    "results = model_trained(test_image_path)\n",
    "\n",
    "# Save the image with detections\n",
    "for r in results:\n",
    "    im_array = r.plot()  # plot a BGR numpy array of predictions\n",
    "    # You would need opencv-python to display it or save it\n",
    "    # import cv2\n",
    "    # cv2.imwrite('result.jpg', im_array)"
   ]
  },
  {
   "cell_type": "code",
   "execution_count": null,
   "metadata": {},
   "outputs": [],
   "source": [
    "import cv2\n",
    "import matplotlib.pyplot as plt\n",
    "\n",
    "OUTPUT_PATH = \"processed\"\n",
    "img = cv2.imread(OUTPUT_PATH)\n",
    "\n",
    "# Convert BGR to RGB for correct colors in matplotlib\n",
    "img_rgb = cv2.cvtColor(img, cv2.COLOR_BGR2RGB)\n",
    "\n",
    "plt.imshow(img_rgb)\n",
    "plt.axis('off')\n",
    "plt.show()\n"
   ]
  },
  {
   "cell_type": "markdown",
   "metadata": {},
   "source": [
    "Scope of improvement:\n",
    "- better dataset (The dataset I have used is not still not sufficient... need to manually click and add images...)\n",
    "- Better model (YOLOv8x.pt instead of YOLOv8n.pt) + training with GPU (using Kaggle/ Google Colab...)\n",
    "- training it for more Epochs (only trained for 20 Epochs, small batch_size...)\n",
    "- applying Data Augmentation..."
   ]
  },
  {
   "cell_type": "markdown",
   "metadata": {},
   "source": []
  }
 ],
 "metadata": {
  "kernelspec": {
   "display_name": "myenv",
   "language": "python",
   "name": "python3"
  },
  "language_info": {
   "codemirror_mode": {
    "name": "ipython",
    "version": 3
   },
   "file_extension": ".py",
   "mimetype": "text/x-python",
   "name": "python",
   "nbconvert_exporter": "python",
   "pygments_lexer": "ipython3",
   "version": "3.10.0"
  }
 },
 "nbformat": 4,
 "nbformat_minor": 2
}
